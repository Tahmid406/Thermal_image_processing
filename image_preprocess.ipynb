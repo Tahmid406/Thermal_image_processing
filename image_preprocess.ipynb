{
 "cells": [
  {
   "cell_type": "code",
   "execution_count": null,
   "metadata": {},
   "outputs": [
    {
     "name": "stdout",
     "output_type": "stream",
     "text": [
      "Unique values in the image: [  0   1   2   3   4   5   6   7   8   9  10  11  12  13  14  15  16  17\n",
      "  18  19  20  21  22  23  24  25  26  27  28  29  30  31  32  33  34  35\n",
      "  36  37  38  39  40  41  42  43  44  45  46  47  48  49  50  51  52  53\n",
      "  54  55  56  57  58  59  60  61  62  63  64  65  66  67  68  69  70  71\n",
      "  72  73  74  75  76  77  78  79  80  81  82  83  84  85  86  87  88  89\n",
      "  90  91  92  93  94  95  96  97  98  99 100 101 102 103 104 105 106 107\n",
      " 108 109 110 111 112 114 115 116 117 118 119 120 121 122 123 124 125 126\n",
      " 128 129 131 133 134 135 136 137 138 139 140 141 142 144 145 147 149 150\n",
      " 151 152 153 155 156 157 158 160 161 162 163 164 166 167 168 169 170 171\n",
      " 172 174 175 176 177 178 179 180 181 183 184 185 186 187 189 190 191 193\n",
      " 194 195 196 197 199 200 201 203 204 205 207 208 209 210 211 212 213 214\n",
      " 215 217 218 219 220 221 222 223 224 226 227 228 229 230 231 232 233 234\n",
      " 235 236 237 238 239 240 241 242 243 244 245 246 247 248 249 250 251 252\n",
      " 253 254]\n"
     ]
    }
   ],
   "source": [
    "import numpy as np\n",
    "from PIL import Image\n",
    "\n",
    "# Path to the image\n",
    "image_path = r'P:\\Thesis\\Dataset\\PV cell\\thermal_projection\\output\\Data\\Train\\fold_1\\images\\0.png'\n",
    "\n",
    "# Open the image using PIL and convert it to a NumPy array\n",
    "image = Image.open(image_path)\n",
    "image_array = np.array(image)\n",
    "\n",
    "# Find the unique pixel values\n",
    "unique_values = np.unique(image_array)a\n",
    "\n",
    "# Print the unique pixel values\n",
    "print(\"Unique values in the image:\", unique_values)"
   ]
  }
 ],
 "metadata": {
  "kernelspec": {
   "display_name": "base",
   "language": "python",
   "name": "python3"
  },
  "language_info": {
   "codemirror_mode": {
    "name": "ipython",
    "version": 3
   },
   "file_extension": ".py",
   "mimetype": "text/x-python",
   "name": "python",
   "nbconvert_exporter": "python",
   "pygments_lexer": "ipython3",
   "version": "3.12.4"
  }
 },
 "nbformat": 4,
 "nbformat_minor": 2
}
